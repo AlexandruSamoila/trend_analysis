{
  "cells": [
    {
      "cell_type": "markdown",
      "metadata": {
        "id": "view-in-github",
        "colab_type": "text"
      },
      "source": [
        "<a href=\"https://colab.research.google.com/github/AlexandruSamoila/trend_analysis/blob/main/src/finetune_roberta.ipynb\" target=\"_parent\"><img src=\"https://colab.research.google.com/assets/colab-badge.svg\" alt=\"Open In Colab\"/></a>"
      ]
    },
    {
      "cell_type": "markdown",
      "source": [
        "# Fine-tuning RoBERTa to perform sentiment analysis for social media trends"
      ],
      "metadata": {
        "id": "ffMgfO9IN68R"
      },
      "id": "ffMgfO9IN68R"
    },
    {
      "cell_type": "markdown",
      "source": [
        "## Prerequisites:"
      ],
      "metadata": {
        "id": "IKkxmpNgO0P8"
      },
      "id": "IKkxmpNgO0P8"
    },
    {
      "cell_type": "code",
      "execution_count": null,
      "id": "366065cb",
      "metadata": {
        "id": "366065cb"
      },
      "outputs": [],
      "source": [
        "!pip install transformers"
      ]
    },
    {
      "cell_type": "code",
      "execution_count": null,
      "id": "bcbbf6e1",
      "metadata": {
        "id": "bcbbf6e1"
      },
      "outputs": [],
      "source": [
        "# Importing the libraries needed\n",
        "import pandas as pd\n",
        "import numpy as np\n",
        "from sklearn.model_selection import train_test_split\n",
        "import torch\n",
        "import seaborn as sns\n",
        "import transformers\n",
        "import json\n",
        "from tqdm import tqdm\n",
        "from torch.utils.data import Dataset, DataLoader\n",
        "from transformers import AutoTokenizer, AutoModelForSequenceClassification\n",
        "import logging\n",
        "import matplotlib.pyplot as plt\n",
        "import os\n",
        "from datetime import datetime\n",
        "logging.basicConfig(level=logging.ERROR)"
      ]
    },
    {
      "cell_type": "code",
      "execution_count": null,
      "id": "2fe0310f",
      "metadata": {
        "id": "2fe0310f"
      },
      "outputs": [],
      "source": [
        "# Setting up the device for GPU usage\n",
        "\n",
        "from torch import cuda\n",
        "device = 'cuda' if cuda.is_available() else 'cpu'"
      ]
    },
    {
      "cell_type": "code",
      "execution_count": null,
      "id": "ad96c6d9",
      "metadata": {
        "id": "ad96c6d9"
      },
      "outputs": [],
      "source": [
        "from google.colab import drive\n",
        "drive.mount('/content/drive')"
      ]
    },
    {
      "cell_type": "code",
      "execution_count": null,
      "id": "62dda881",
      "metadata": {
        "id": "62dda881"
      },
      "outputs": [],
      "source": [
        "%cd drive/MyDrive/Projects/trend_analysis"
      ]
    },
    {
      "cell_type": "code",
      "execution_count": null,
      "id": "c8f6e3e7",
      "metadata": {
        "id": "c8f6e3e7"
      },
      "outputs": [],
      "source": [
        "!ls"
      ]
    },
    {
      "cell_type": "code",
      "execution_count": null,
      "id": "a223bd02",
      "metadata": {
        "id": "a223bd02"
      },
      "outputs": [],
      "source": [
        "posts_df = pd.read_json(\"data/analyzed_trends.json\", encoding=\"utf8\")"
      ]
    },
    {
      "cell_type": "code",
      "execution_count": null,
      "id": "e3d38e3a",
      "metadata": {
        "id": "e3d38e3a"
      },
      "outputs": [],
      "source": [
        "posts_df.head()"
      ]
    },
    {
      "cell_type": "markdown",
      "source": [
        "## Creating the dataset"
      ],
      "metadata": {
        "id": "EdLxcL02PFTU"
      },
      "id": "EdLxcL02PFTU"
    },
    {
      "cell_type": "markdown",
      "source": [
        "Dataset balancing to avoid bias towards a specific class"
      ],
      "metadata": {
        "id": "mRmlQwPNTret"
      },
      "id": "mRmlQwPNTret"
    },
    {
      "cell_type": "code",
      "execution_count": null,
      "id": "526d291f",
      "metadata": {
        "id": "526d291f"
      },
      "outputs": [],
      "source": [
        "from collections import Counter\n",
        "\n",
        "class_counts = Counter(posts_df['label'])\n",
        "print(\"Before balancing:\", class_counts)\n",
        "\n",
        "# Define a proportion for balancing\n",
        "negative_size = class_counts[0]  # Keep all negatives\n",
        "neutral_size = int(negative_size * 1.3)  # Keep 1.3x more neutrals\n",
        "positive_size = int(negative_size * 1.1)  # Keep 1.1x more positives\n",
        "\n",
        "balanced_df = pd.DataFrame()\n",
        "\n",
        "# Sample negative class (keep all)\n",
        "neg_df = posts_df[posts_df['label'] == 0]\n",
        "\n",
        "# Sample neutral class (keep more)\n",
        "neu_df = posts_df[posts_df['label'] == 1].sample(n=min(neutral_size, class_counts[1]), random_state=42)\n",
        "\n",
        "# Sample positive class (undersample a bit)\n",
        "pos_df = posts_df[posts_df['label'] == 2].sample(n=min(positive_size, class_counts[2]), random_state=42)\n",
        "\n",
        "# Combine into balanced dataset\n",
        "balanced_df = pd.concat([neg_df, neu_df, pos_df])\n",
        "\n",
        "print(\"After balancing:\", Counter(balanced_df['label']))"
      ]
    },
    {
      "cell_type": "markdown",
      "source": [
        "Define the hyperparameters:"
      ],
      "metadata": {
        "id": "fmU9G_LYT4nc"
      },
      "id": "fmU9G_LYT4nc"
    },
    {
      "cell_type": "code",
      "execution_count": null,
      "id": "972056bc",
      "metadata": {
        "id": "972056bc"
      },
      "outputs": [],
      "source": [
        "MAX_LEN = 215\n",
        "TRAIN_BATCH_SIZE = 16\n",
        "VALID_BATCH_SIZE = 8\n",
        "TEST_BATCH_SIZE = 8\n",
        "EPOCHS = 3\n",
        "PATIENCE = 2\n",
        "WEIGHT_DECAY = 0.02\n",
        "LEARNING_RATE = 1e-05\n",
        "model_type = \"cardiffnlp/twitter-xlm-roberta-base-sentiment-multilingual\" #clapAI/modernBERT-large-multilingual-sentiment\n",
        "tokenizer = AutoTokenizer.from_pretrained(model_type, truncation=True, do_lower_case=True)"
      ]
    },
    {
      "cell_type": "code",
      "execution_count": null,
      "id": "815c2884",
      "metadata": {
        "id": "815c2884"
      },
      "outputs": [],
      "source": [
        "class SentimentData(Dataset):\n",
        "    \"\"\"\n",
        "    Custom dataset class for sentiment analysis.\n",
        "    \"\"\"\n",
        "    def __init__(self, dataframe, tokenizer, max_len):\n",
        "        self.tokenizer = tokenizer\n",
        "        self.data = dataframe\n",
        "        self.text = dataframe.post\n",
        "        self.targets = self.data.label\n",
        "        self.max_len = max_len\n",
        "\n",
        "    def __len__(self):\n",
        "        return len(self.text)\n",
        "\n",
        "    def __getitem__(self, index):\n",
        "        row = self.data.iloc[index]\n",
        "        text = str(row.post)\n",
        "        text = \" \".join(text.split())\n",
        "\n",
        "        inputs = self.tokenizer.encode_plus(\n",
        "            text,\n",
        "            None,\n",
        "            add_special_tokens=True,\n",
        "            max_length=self.max_len,\n",
        "            padding='max_length',\n",
        "            truncation=True,\n",
        "            return_token_type_ids=True\n",
        "        )\n",
        "        ids = inputs['input_ids']\n",
        "        mask = inputs['attention_mask']\n",
        "        token_type_ids = inputs[\"token_type_ids\"]\n",
        "\n",
        "        return {\n",
        "            'ids': torch.tensor(ids, dtype=torch.long),\n",
        "            'mask': torch.tensor(mask, dtype=torch.long),\n",
        "            'token_type_ids': torch.tensor(token_type_ids, dtype=torch.long),\n",
        "            'targets': torch.tensor(row.label, dtype=torch.long)\n",
        "        }"
      ]
    },
    {
      "cell_type": "markdown",
      "source": [
        "Split the dataset into 80% train, 10% validation, 10% test"
      ],
      "metadata": {
        "id": "isbwO09zYWRO"
      },
      "id": "isbwO09zYWRO"
    },
    {
      "cell_type": "code",
      "execution_count": null,
      "id": "575ebc34",
      "metadata": {
        "id": "575ebc34"
      },
      "outputs": [],
      "source": [
        "train, validate, test = np.split(\n",
        "        balanced_df.sample(frac=1, random_state=42),\n",
        "        [int(0.8 * len(balanced_df)), int(0.9 * len(balanced_df))],\n",
        "    )"
      ]
    },
    {
      "cell_type": "code",
      "execution_count": null,
      "id": "2787482d",
      "metadata": {
        "id": "2787482d"
      },
      "outputs": [],
      "source": [
        "print(\"Train, Validate, Test:\",train.shape, validate.shape, test.shape)"
      ]
    },
    {
      "cell_type": "code",
      "execution_count": null,
      "id": "bde2c454",
      "metadata": {
        "id": "bde2c454"
      },
      "outputs": [],
      "source": [
        "training_set = SentimentData(train, tokenizer, MAX_LEN)\n",
        "validation_set = SentimentData(validate, tokenizer, MAX_LEN)\n",
        "test_set = SentimentData(test, tokenizer, MAX_LEN)\n",
        "train_params = {'batch_size': TRAIN_BATCH_SIZE,\n",
        "                'shuffle': True,\n",
        "                'num_workers': 1,\n",
        "                'pin_memory' : False\n",
        "                }\n",
        "valid_params = {'batch_size': VALID_BATCH_SIZE,\n",
        "                'shuffle': True,\n",
        "                'num_workers': 1,\n",
        "                'pin_memory' : False\n",
        "                }\n",
        "test_params = {'batch_size': TEST_BATCH_SIZE,\n",
        "                'shuffle': True,\n",
        "                'num_workers': 1,\n",
        "                 'pin_memory' : False\n",
        "                }\n",
        "training_loader = DataLoader(training_set, **train_params)\n",
        "validation_loader = DataLoader(validation_set, **valid_params)\n",
        "test_loader = DataLoader(test_set, **test_params)"
      ]
    },
    {
      "cell_type": "code",
      "execution_count": null,
      "id": "2c0cd2ab",
      "metadata": {
        "id": "2c0cd2ab"
      },
      "outputs": [],
      "source": [
        "model = AutoModelForSequenceClassification.from_pretrained(model_type)\n",
        "model.to(device)"
      ]
    },
    {
      "cell_type": "code",
      "execution_count": null,
      "id": "3968c34f",
      "metadata": {
        "id": "3968c34f"
      },
      "outputs": [],
      "source": [
        "def calcuate_accuracy(preds, targets):\n",
        "    n_correct = (preds==targets).sum().item()\n",
        "    return n_correct"
      ]
    },
    {
      "cell_type": "markdown",
      "source": [
        "## Model training loop"
      ],
      "metadata": {
        "id": "d6MD9RX-YmQQ"
      },
      "id": "d6MD9RX-YmQQ"
    },
    {
      "cell_type": "code",
      "execution_count": null,
      "id": "657863e0",
      "metadata": {
        "id": "657863e0"
      },
      "outputs": [],
      "source": [
        "\n",
        "def one_epoch(model, data_loader, loss_fn, opt=None):\n",
        "    \"\"\"\n",
        "    Runs one epoch of training or validation.\n",
        "\n",
        "    Args:\n",
        "        model: The model to be trained or evaluated.\n",
        "        data_loader: DataLoader object that loads the batch of data.\n",
        "        loss_fn: The loss function to optimize.\n",
        "        opt: Optimizer for training phase (None during evaluation).\n",
        "\n",
        "    Returns:\n",
        "        avg_loss: Average loss over the epoch.\n",
        "    \"\"\"\n",
        "\n",
        "    # Set the model to training or evaluation mode based on the optimizer\n",
        "    train = False if opt is None else True\n",
        "    model.train() if train else model.eval()\n",
        "\n",
        "    losses = []\n",
        "    for _,data in enumerate(data_loader):\n",
        "        ids = data['ids'].to(device, dtype = torch.long)\n",
        "        mask = data['mask'].to(device, dtype = torch.long)\n",
        "        token_type_ids = data['token_type_ids'].to(device, dtype = torch.long)\n",
        "        targets = data['targets'].to(device, dtype = torch.long)\n",
        "\n",
        "        # Enable gradient computation only during training\n",
        "        with torch.set_grad_enabled(train):\n",
        "            outputs = model(ids, mask, token_type_ids).logits\n",
        "\n",
        "        loss = loss_fn(outputs, targets)\n",
        "        losses.append(loss.item())\n",
        "\n",
        "        if train:\n",
        "            opt.zero_grad()  # Reset gradients\n",
        "            loss.backward()  # Backpropagate gradients\n",
        "            opt.step()  # Update model parameters\n",
        "\n",
        "    avg_loss = np.mean(losses)\n",
        "    return avg_loss\n",
        "\n",
        "def train(\n",
        "    model,\n",
        "    train_loader,\n",
        "    val_loader,\n",
        "    lr=1e-3,\n",
        "    max_epochs=3,\n",
        "    weight_decay=0.01,\n",
        "    patience=3,\n",
        "):\n",
        "    \"\"\"\n",
        "    Trains the model using the provided training and validation data loaders.\n",
        "\n",
        "    Args:\n",
        "        model: The neural network model to train.\n",
        "        train_loader: DataLoader object for the training set.\n",
        "        val_loader: DataLoader object for the validation set.\n",
        "        lr: Learning rate for the optimizer. Default is 1e-3.\n",
        "        max_epochs: Maximum number of epochs to train. Default is 30.\n",
        "        weight_decay: Weight decay for L2 regularization. Default is 0.01.\n",
        "        patience: Number of epochs with no improvement after which training will stop. Default is 3.\n",
        "\n",
        "    Returns:\n",
        "        train_losses: List of training losses per epoch.\n",
        "        valid_losses: List of validation losses per epoch.\n",
        "    \"\"\"\n",
        "\n",
        "    # Initialize the optimizer\n",
        "    opt = torch.optim.Adam(model.parameters(), lr=lr, weight_decay=weight_decay)\n",
        "\n",
        "    loss_fn = torch.nn.CrossEntropyLoss()\n",
        "    best_valid_loss = float(\"inf\")  # Initialize best validation loss\n",
        "    patience_counter = 0  # Counter for early stopping\n",
        "    train_losses, valid_losses = [], []  # Track losses for plotting/analysis\n",
        "    best_model_state = None  # Store the best model's state_dict\n",
        "\n",
        "    # Training loop\n",
        "    t = tqdm(range(max_epochs))\n",
        "    for epoch in t:\n",
        "        # Training phase\n",
        "        train_loss = one_epoch(model, train_loader, loss_fn, opt)\n",
        "        # Validation phase\n",
        "        valid_loss = one_epoch(model, val_loader, loss_fn)\n",
        "\n",
        "        train_losses.append(train_loss)\n",
        "        valid_losses.append(valid_loss)\n",
        "\n",
        "        # Early stopping\n",
        "        if valid_loss < best_valid_loss:\n",
        "            best_valid_loss = valid_loss\n",
        "            patience_counter = 0  # Reset counter if validation loss improves\n",
        "            best_model_state = model.state_dict() # Save best model\n",
        "        else:\n",
        "            patience_counter += 1\n",
        "            if patience_counter >= patience:\n",
        "                print(f\"\\nEarly stopping at epoch {epoch}\")\n",
        "                break\n",
        "\n",
        "        t.set_description(f\"train loss: {train_loss:.4f}, val loss: {valid_loss:.4f}\")\n",
        "    # Load the best model state before returning\n",
        "    model.load_state_dict(best_model_state)\n",
        "    return train_losses, valid_losses\n",
        "\n",
        "def plot_history(train_losses, valid_losses):\n",
        "    \"\"\"\n",
        "    Plots the training and validation loss history over epochs.\n",
        "\n",
        "    Args:\n",
        "        train_losses: List of training losses for each epoch.\n",
        "        valid_losses: List of validation losses for each epoch.\n",
        "    \"\"\"\n",
        "    plt.figure(figsize=(7, 3))\n",
        "    plt.subplot(1, 2, 1)\n",
        "    plt.xlabel(\"epoch\")\n",
        "    plt.ylabel(\"loss\")\n",
        "    plt.plot(train_losses, label=\"train\")\n",
        "    plt.plot(valid_losses, label=\"valid\")\n",
        "    plt.legend()\n",
        "    plt.grid()\n",
        "    plt.tight_layout()\n",
        "    plt.show()"
      ]
    },
    {
      "cell_type": "code",
      "execution_count": null,
      "id": "d4c64da3",
      "metadata": {
        "id": "d4c64da3"
      },
      "outputs": [],
      "source": [
        "# Start the training process and plot the training history\n",
        "print(\"Begin training ...\")\n",
        "plot_history(\n",
        "    *train(\n",
        "        model,\n",
        "        training_loader,\n",
        "        validation_loader,\n",
        "        lr=LEARNING_RATE,\n",
        "        max_epochs=EPOCHS,\n",
        "        weight_decay=WEIGHT_DECAY,\n",
        "        patience=PATIENCE,\n",
        "    )\n",
        ")"
      ]
    },
    {
      "cell_type": "markdown",
      "source": [
        "Save the trained model"
      ],
      "metadata": {
        "id": "3Mg9DTP6bdUu"
      },
      "id": "3Mg9DTP6bdUu"
    },
    {
      "cell_type": "code",
      "execution_count": null,
      "id": "1df2a7e5",
      "metadata": {
        "id": "1df2a7e5"
      },
      "outputs": [],
      "source": [
        "# Save the trained model and its hyperparameters\n",
        "timestamp = datetime.now().strftime(\"%Y%m%d_%H%M\")\n",
        "\n",
        "# Folder name to save the trained model\n",
        "models_dir = \"checkpoints\"\n",
        "os.makedirs(models_dir, exist_ok=True)\n",
        "\n",
        "# Create model name with hyperparameters\n",
        "model_name = \"roberta_sentiment\"\n",
        "\n",
        "# Construct the path for saving the model\n",
        "save_dir = os.path.join(models_dir, f\"{timestamp}_{model_name}\")\n",
        "os.makedirs(save_dir, exist_ok=True)\n",
        "model_path = os.path.join(save_dir, \"model.bin\")\n",
        "\n",
        "model.save_pretrained(save_dir)\n",
        "tokenizer.save_vocabulary(save_dir)\n",
        "print(\"Model saved!\")"
      ]
    },
    {
      "cell_type": "code",
      "execution_count": null,
      "id": "f1f95ecc",
      "metadata": {
        "id": "f1f95ecc"
      },
      "outputs": [],
      "source": [
        "import gc\n",
        "del model\n",
        "torch.cuda.empty_cache()  # Free GPU memory\n",
        "gc.collect()"
      ]
    },
    {
      "cell_type": "markdown",
      "source": [
        "## Evaluate a fine-tuned model"
      ],
      "metadata": {
        "id": "Ah2M92QybrAF"
      },
      "id": "Ah2M92QybrAF"
    },
    {
      "cell_type": "code",
      "execution_count": null,
      "id": "a14533da",
      "metadata": {
        "id": "a14533da"
      },
      "outputs": [],
      "source": [
        "path_to_saved_model = \"/content/drive/MyDrive/Projects/trend_analysis/checkpoints/20250407_1450_roberta_sentiment\"\n",
        "test_model = AutoModelForSequenceClassification.from_pretrained(path_to_saved_model)\n",
        "test_model.eval()"
      ]
    },
    {
      "cell_type": "code",
      "execution_count": null,
      "id": "109d626f",
      "metadata": {
        "id": "109d626f"
      },
      "outputs": [],
      "source": [
        "from collections import defaultdict\n",
        "from sklearn.metrics import confusion_matrix\n",
        "from sklearn.metrics import classification_report\n",
        "\n",
        "def evaluate_model(model, data_loader):\n",
        "    \"\"\"\n",
        "    Evaluates the performance of a sentiment analysis model.\n",
        "\n",
        "    Args:\n",
        "        model: The trained sentiment analysis model.\n",
        "        data_loader: DataLoader object for the evaluation dataset.\n",
        "\n",
        "    Returns:\n",
        "        None (prints the evaluation results).\n",
        "    \"\"\"\n",
        "    all_predictions = []\n",
        "    all_true_ratings = []\n",
        "\n",
        "    # Class-wise counts\n",
        "    class_counts = defaultdict(lambda: {\"correct\": 0, \"total\": 0})\n",
        "\n",
        "    with torch.no_grad():\n",
        "      for _,data in enumerate(data_loader):\n",
        "          ids = data['ids'].to(device, dtype = torch.long)\n",
        "          mask = data['mask'].to(device, dtype = torch.long)\n",
        "          token_type_ids = data['token_type_ids'].to(device, dtype = torch.long)\n",
        "          targets = data['targets'].to(device, dtype = torch.long)\n",
        "\n",
        "          outputs = model(ids, mask, token_type_ids).logits\n",
        "\n",
        "          _, predictions = torch.max(outputs.data, dim=1)\n",
        "          # Store for confusion matrix\n",
        "          all_predictions.extend(predictions.cpu().numpy())\n",
        "          all_true_ratings.extend(targets.cpu().numpy())\n",
        "          n_correct += calcuate_accuracy(predictions, targets)\n",
        "          nb_tr_examples+=targets.size(0)\n",
        "          # Update class-specific counts\n",
        "          for true_label, pred_label in zip(targets.cpu().numpy(), predictions.cpu().numpy()):\n",
        "              class_counts[true_label][\"total\"] += 1\n",
        "              if true_label == pred_label:\n",
        "                  class_counts[true_label][\"correct\"] += 1\n",
        "    # Print results for each class\n",
        "    print(\"\\nPerformance per class:\")\n",
        "    for sentiment_class, counts in sorted(class_counts.items()):\n",
        "        correct = counts[\"correct\"]\n",
        "        total = counts[\"total\"]\n",
        "        print(f\"Class {sentiment_class}: {correct}/{total} correct ({(correct/total)*100:.2f}%)\")\n",
        "\n",
        "    # Compute confusion matrix\n",
        "    cm = confusion_matrix(all_true_ratings, all_predictions, normalize='true')\n",
        "    class_labels = sorted(class_counts.keys())  # Ensure correct class ordering\n",
        "\n",
        "    # Plot confusion matrix\n",
        "    plt.figure(figsize=(6, 5))\n",
        "    sns.heatmap(cm, annot=True, cmap=\"Blues\", xticklabels=class_labels, yticklabels=class_labels)\n",
        "    plt.xlabel(\"Predicted Label\")\n",
        "    plt.ylabel(\"True Label\")\n",
        "    plt.title(\"Confusion Matrix\")\n",
        "    plt.show()\n",
        "    print(classification_report(all_true_ratings, all_predictions, digits=2))\n"
      ]
    },
    {
      "cell_type": "code",
      "execution_count": null,
      "id": "ad8aa987",
      "metadata": {
        "id": "ad8aa987"
      },
      "outputs": [],
      "source": [
        "test_model.to(device)\n",
        "evaluate_model(test_model, test_loader)"
      ]
    },
    {
      "cell_type": "code",
      "execution_count": null,
      "id": "9c94623b",
      "metadata": {
        "id": "9c94623b"
      },
      "outputs": [],
      "source": [
        "init_model = AutoModelForSequenceClassification.from_pretrained(model_type)#\"cardiffnlp/twitter-xlm-roberta-base-sentiment-multilingual\")\n",
        "init_model.to(device)\n",
        "init_model.eval()\n",
        "print(evaluate_model(init_model, test_loader))"
      ]
    },
    {
      "cell_type": "code",
      "execution_count": null,
      "id": "6cd71342",
      "metadata": {
        "id": "6cd71342"
      },
      "outputs": [],
      "source": [
        "del init_model\n",
        "del test_model\n",
        "torch.cuda.empty_cache()  # Free GPU memory\n",
        "gc.collect()"
      ]
    }
  ],
  "metadata": {
    "accelerator": "GPU",
    "colab": {
      "gpuType": "T4",
      "provenance": [],
      "include_colab_link": true
    },
    "kernelspec": {
      "display_name": "Python 3",
      "name": "python3"
    },
    "language_info": {
      "name": "python"
    }
  },
  "nbformat": 4,
  "nbformat_minor": 5
}